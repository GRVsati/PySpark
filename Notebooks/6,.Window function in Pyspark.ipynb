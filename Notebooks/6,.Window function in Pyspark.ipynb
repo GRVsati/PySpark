{
 "cells": [
  {
   "cell_type": "code",
   "execution_count": 0,
   "metadata": {
    "application/vnd.databricks.v1+cell": {
     "cellMetadata": {
      "byteLimit": 2048000,
      "rowLimit": 10000
     },
     "inputWidgets": {},
     "nuid": "d623d251-6183-4c45-aae4-db594268959b",
     "showTitle": false,
     "title": ""
    }
   },
   "outputs": [
    {
     "output_type": "stream",
     "name": "stdout",
     "output_type": "stream",
     "text": [
      "+---+--------+------+---------+------+\n| id|    name|salary|     dept|gender|\n+---+--------+------+---------+------+\n|  1|  manish| 50000|       IT|     m|\n|  2|  vikash| 60000|    sales|     m|\n|  3| raushan| 70000|marketing|     m|\n|  4|  mukesh| 80000|       IT|     m|\n|  5|   priti| 90000|    sales|     f|\n|  6|  nikita| 45000|marketing|     f|\n|  7|  ragini| 55000|marketing|     f|\n|  8|   rashi|100000|       IT|     f|\n|  9|  aditya| 65000|       IT|     m|\n| 10|   rahul| 50000|marketing|     m|\n| 11|   rakhi| 50000|       IT|     f|\n| 12|akhilesh| 90000|    sales|     m|\n+---+--------+------+---------+------+\n\n"
     ]
    }
   ],
   "source": [
    "emp_data = [(1,'manish',50000,'IT','m'),\n",
    "(2,'vikash',60000,'sales','m'),\n",
    "(3,'raushan',70000,'marketing','m'),\n",
    "(4,'mukesh',80000,'IT','m'),\n",
    "(5,'priti',90000,'sales','f'),\n",
    "(6,'nikita',45000,'marketing','f'),\n",
    "(7,'ragini',55000,'marketing','f'),\n",
    "(8,'rashi',100000,'IT','f'),\n",
    "(9,'aditya',65000,'IT','m'),\n",
    "(10,'rahul',50000,'marketing','m'),\n",
    "(11,'rakhi',50000,'IT','f'),\n",
    "(12,'akhilesh',90000,'sales','m')]\n",
    "\n",
    "schema = [\"id\",\"name\",\"salary\",\"dept\",\"gender\"]\n",
    "\n",
    "emp = spark.createDataFrame(data = emp_data, schema = schema)\n",
    "\n",
    "emp.show()"
   ]
  },
  {
   "cell_type": "code",
   "execution_count": 0,
   "metadata": {
    "application/vnd.databricks.v1+cell": {
     "cellMetadata": {
      "byteLimit": 2048000,
      "rowLimit": 10000
     },
     "inputWidgets": {},
     "nuid": "c6e16369-e656-414f-b58b-08a4e5fd67d5",
     "showTitle": false,
     "title": ""
    }
   },
   "outputs": [
    {
     "output_type": "stream",
     "name": "stdout",
     "output_type": "stream",
     "text": [
      "+---+--------+------+---------+------+----------+----+----------+\n| id|    name|salary|     dept|gender|row_number|rank|dense_rank|\n+---+--------+------+---------+------+----------+----+----------+\n|  1|  manish| 50000|       IT|     m|         1|   1|         1|\n| 11|   rakhi| 50000|       IT|     f|         2|   1|         1|\n|  9|  aditya| 65000|       IT|     m|         3|   3|         2|\n|  4|  mukesh| 80000|       IT|     m|         4|   4|         3|\n|  8|   rashi|100000|       IT|     f|         5|   5|         4|\n|  6|  nikita| 45000|marketing|     f|         1|   1|         1|\n| 10|   rahul| 50000|marketing|     m|         2|   2|         2|\n|  7|  ragini| 55000|marketing|     f|         3|   3|         3|\n|  3| raushan| 70000|marketing|     m|         4|   4|         4|\n|  2|  vikash| 60000|    sales|     m|         1|   1|         1|\n|  5|   priti| 90000|    sales|     f|         2|   2|         2|\n| 12|akhilesh| 90000|    sales|     m|         3|   2|         2|\n+---+--------+------+---------+------+----------+----+----------+\n\n"
     ]
    }
   ],
   "source": [
    "from pyspark.sql.window import Window\n",
    "from pyspark.sql.functions import*\n",
    "\n",
    "window = Window.partitionBy(\"dept\").orderBy(\"salary\")\n",
    "\n",
    "emp.withColumn(\"row_number\",row_number().over(window))\\\n",
    "      .withColumn(\"rank\",rank().over(window))\\\n",
    "      .withColumn(\"dense_rank\",dense_rank().over(window))\\\n",
    "      .show()\n",
    "      "
   ]
  },
  {
   "cell_type": "code",
   "execution_count": 0,
   "metadata": {
    "application/vnd.databricks.v1+cell": {
     "cellMetadata": {
      "byteLimit": 2048000,
      "rowLimit": 10000
     },
     "inputWidgets": {},
     "nuid": "fa5a5e24-1641-456e-92e9-3370f593160f",
     "showTitle": false,
     "title": ""
    }
   },
   "outputs": [
    {
     "output_type": "stream",
     "name": "stdout",
     "output_type": "stream",
     "text": [
      "+---+--------+------+---------+------+----------+----+----------+\n| id|    name|salary|     dept|gender|row_number|rank|dense_rank|\n+---+--------+------+---------+------+----------+----+----------+\n| 11|   rakhi| 50000|       IT|     f|         1|   1|         1|\n|  8|   rashi|100000|       IT|     f|         2|   2|         2|\n|  1|  manish| 50000|       IT|     m|         1|   1|         1|\n|  9|  aditya| 65000|       IT|     m|         2|   2|         2|\n|  4|  mukesh| 80000|       IT|     m|         3|   3|         3|\n|  6|  nikita| 45000|marketing|     f|         1|   1|         1|\n|  7|  ragini| 55000|marketing|     f|         2|   2|         2|\n| 10|   rahul| 50000|marketing|     m|         1|   1|         1|\n|  3| raushan| 70000|marketing|     m|         2|   2|         2|\n|  5|   priti| 90000|    sales|     f|         1|   1|         1|\n|  2|  vikash| 60000|    sales|     m|         1|   1|         1|\n| 12|akhilesh| 90000|    sales|     m|         2|   2|         2|\n+---+--------+------+---------+------+----------+----+----------+\n\n"
     ]
    }
   ],
   "source": [
    "\n",
    "window = Window.partitionBy(\"dept\",\"gender\").orderBy(\"salary\")\n",
    "\n",
    "emp.withColumn(\"row_number\",row_number().over(window))\\\n",
    "      .withColumn(\"rank\",rank().over(window))\\\n",
    "      .withColumn(\"dense_rank\",dense_rank().over(window))\\\n",
    "      .show()"
   ]
  },
  {
   "cell_type": "markdown",
   "metadata": {
    "application/vnd.databricks.v1+cell": {
     "cellMetadata": {},
     "inputWidgets": {},
     "nuid": "fb22e24b-a976-442e-bced-75bf1ee90da7",
     "showTitle": false,
     "title": ""
    }
   },
   "source": [
    "#Find employees with first and second highest salary"
   ]
  },
  {
   "cell_type": "code",
   "execution_count": 0,
   "metadata": {
    "application/vnd.databricks.v1+cell": {
     "cellMetadata": {
      "byteLimit": 2048000,
      "rowLimit": 10000
     },
     "inputWidgets": {},
     "nuid": "8d281166-6825-46d6-8ee8-7dfa9d08dec2",
     "showTitle": false,
     "title": ""
    }
   },
   "outputs": [
    {
     "output_type": "stream",
     "name": "stdout",
     "output_type": "stream",
     "text": [
      "+--------+------+---------+----------+\n|    name|salary|     dept|dense_rank|\n+--------+------+---------+----------+\n|   rashi|100000|       IT|         1|\n|  mukesh| 80000|       IT|         2|\n| raushan| 70000|marketing|         1|\n|  ragini| 55000|marketing|         2|\n|   priti| 90000|    sales|         1|\n|akhilesh| 90000|    sales|         1|\n|  vikash| 60000|    sales|         2|\n+--------+------+---------+----------+\n\n"
     ]
    }
   ],
   "source": [
    "window = Window.partitionBy(\"dept\").orderBy(desc(\"salary\"))\n",
    "\n",
    "emp.withColumn(\"row_number\",row_number().over(window))\\\n",
    "      .withColumn(\"rank\",rank().over(window))\\\n",
    "      .withColumn(\"dense_rank\",dense_rank().over(window))\\\n",
    "      .filter(col(\"dense_rank\")<=2)\\\n",
    "      .select(\"name\",\"salary\",\"dept\",\"dense_rank\")\\\n",
    "      .show()"
   ]
  },
  {
   "cell_type": "markdown",
   "metadata": {
    "application/vnd.databricks.v1+cell": {
     "cellMetadata": {},
     "inputWidgets": {},
     "nuid": "4078144d-25aa-44d9-aba4-89ec19dab51e",
     "showTitle": false,
     "title": ""
    }
   },
   "source": [
    "#Lead and Lag"
   ]
  },
  {
   "cell_type": "code",
   "execution_count": 0,
   "metadata": {
    "application/vnd.databricks.v1+cell": {
     "cellMetadata": {
      "byteLimit": 2048000,
      "rowLimit": 10000
     },
     "inputWidgets": {},
     "nuid": "feaa1bcc-bab1-4dec-afa9-818e4e3a2858",
     "showTitle": false,
     "title": ""
    }
   },
   "outputs": [
    {
     "output_type": "stream",
     "name": "stdout",
     "output_type": "stream",
     "text": [
      "+----------+------------+----------+-------+\n|product_id|product_name|sales_date|  sales|\n+----------+------------+----------+-------+\n|         1|      iphone|01-01-2023|1500000|\n|         2|     samsung|01-01-2023|1100000|\n|         3|     oneplus|01-01-2023|1100000|\n|         1|      iphone|01-02-2023|1300000|\n|         2|     samsung|01-02-2023|1120000|\n|         3|     oneplus|01-02-2023|1120000|\n|         1|      iphone|01-03-2023|1600000|\n|         2|     samsung|01-03-2023|1080000|\n|         3|     oneplus|01-03-2023|1160000|\n|         1|      iphone|01-04-2023|1700000|\n|         2|     samsung|01-04-2023|1800000|\n|         3|     oneplus|01-04-2023|1170000|\n|         1|      iphone|01-05-2023|1200000|\n|         2|     samsung|01-05-2023| 980000|\n|         3|     oneplus|01-05-2023|1175000|\n|         1|      iphone|01-06-2023|1100000|\n|         2|     samsung|01-06-2023|1100000|\n|         3|     oneplus|01-06-2023|1200000|\n+----------+------------+----------+-------+\n\n"
     ]
    }
   ],
   "source": [
    "\n",
    "product_data = [\n",
    "(1,\"iphone\",\"01-01-2023\",1500000),\n",
    "(2,\"samsung\",\"01-01-2023\",1100000),\n",
    "(3,\"oneplus\",\"01-01-2023\",1100000),\n",
    "(1,\"iphone\",\"01-02-2023\",1300000),\n",
    "(2,\"samsung\",\"01-02-2023\",1120000),\n",
    "(3,\"oneplus\",\"01-02-2023\",1120000),\n",
    "(1,\"iphone\",\"01-03-2023\",1600000),\n",
    "(2,\"samsung\",\"01-03-2023\",1080000),\n",
    "(3,\"oneplus\",\"01-03-2023\",1160000),\n",
    "(1,\"iphone\",\"01-04-2023\",1700000),\n",
    "(2,\"samsung\",\"01-04-2023\",1800000),\n",
    "(3,\"oneplus\",\"01-04-2023\",1170000),\n",
    "(1,\"iphone\",\"01-05-2023\",1200000),\n",
    "(2,\"samsung\",\"01-05-2023\",980000),\n",
    "(3,\"oneplus\",\"01-05-2023\",1175000),\n",
    "(1,\"iphone\",\"01-06-2023\",1100000),\n",
    "(2,\"samsung\",\"01-06-2023\",1100000),\n",
    "(3,\"oneplus\",\"01-06-2023\",1200000)\n",
    "]\n",
    "\n",
    "sales_schema = ['product_id','product_name','sales_date',\"sales\"]\n",
    "\n",
    "sales = spark.createDataFrame(data = product_data, schema = sales_schema)\n",
    "\n",
    "sales.show()"
   ]
  },
  {
   "cell_type": "markdown",
   "metadata": {
    "application/vnd.databricks.v1+cell": {
     "cellMetadata": {},
     "inputWidgets": {},
     "nuid": "8748b4e7-2bf7-42c6-9f76-d8c1216ee56e",
     "showTitle": false,
     "title": ""
    }
   },
   "source": [
    "#what is the %age of sales each month based on last 6 months"
   ]
  },
  {
   "cell_type": "code",
   "execution_count": 0,
   "metadata": {
    "application/vnd.databricks.v1+cell": {
     "cellMetadata": {
      "byteLimit": 2048000,
      "rowLimit": 10000
     },
     "inputWidgets": {},
     "nuid": "6371a661-2903-4043-9d7b-89ef4981153f",
     "showTitle": false,
     "title": ""
    }
   },
   "outputs": [
    {
     "output_type": "stream",
     "name": "stdout",
     "output_type": "stream",
     "text": [
      "Unexpected exception formatting exception. Falling back to standard exception\n"
     ]
    },
    {
     "output_type": "stream",
     "name": "stderr",
     "output_type": "stream",
     "text": [
      "Traceback (most recent call last):\n  File \"/databricks/python/lib/python3.9/site-packages/IPython/core/interactiveshell.py\", line 3378, in run_code\n    exec(code_obj, self.user_global_ns, self.user_ns)\n  File \"<command-3209656271287342>\", line 6, in <module>\n    sales.withColumn(\"total_sale\",sum(sales).over(window)).show()\n  File \"/databricks/spark/python/pyspark/sql/utils.py\", line 164, in wrapped\n    return f(*args, **kwargs)\n  File \"/databricks/spark/python/pyspark/sql/functions.py\", line 602, in sum\n    return _invoke_function_over_columns(\"sum\", col)\n  File \"/databricks/spark/python/pyspark/sql/functions.py\", line 98, in _invoke_function_over_columns\n    return _invoke_function(name, *(_to_java_column(col) for col in cols))\n  File \"/databricks/spark/python/pyspark/sql/functions.py\", line 98, in <genexpr>\n    return _invoke_function(name, *(_to_java_column(col) for col in cols))\n  File \"/databricks/spark/python/pyspark/sql/column.py\", line 66, in _to_java_column\n    raise TypeError(\nTypeError: Invalid argument, not a string or column: DataFrame[product_id: bigint, product_name: string, sales_date: string, sales: bigint] of type <class 'pyspark.sql.dataframe.DataFrame'>. For column literals, use 'lit', 'array', 'struct' or 'create_map' function.\n\nDuring handling of the above exception, another exception occurred:\n\nTraceback (most recent call last):\n  File \"/databricks/python/lib/python3.9/site-packages/IPython/core/interactiveshell.py\", line 1997, in showtraceback\n    stb = self.InteractiveTB.structured_traceback(\n  File \"/databricks/python/lib/python3.9/site-packages/IPython/core/ultratb.py\", line 1112, in structured_traceback\n    return FormattedTB.structured_traceback(\n  File \"/databricks/python/lib/python3.9/site-packages/IPython/core/ultratb.py\", line 1006, in structured_traceback\n    return VerboseTB.structured_traceback(\n  File \"/databricks/python/lib/python3.9/site-packages/IPython/core/ultratb.py\", line 859, in structured_traceback\n    formatted_exception = self.format_exception_as_a_whole(etype, evalue, etb, number_of_lines_of_context,\n  File \"/databricks/python/lib/python3.9/site-packages/IPython/core/ultratb.py\", line 812, in format_exception_as_a_whole\n    frames.append(self.format_record(r))\n  File \"/databricks/python/lib/python3.9/site-packages/IPython/core/ultratb.py\", line 730, in format_record\n    result += ''.join(_format_traceback_lines(frame_info.lines, Colors, self.has_colors, lvals))\n  File \"/databricks/python/lib/python3.9/site-packages/stack_data/utils.py\", line 145, in cached_property_wrapper\n    value = obj.__dict__[self.func.__name__] = self.func(obj)\n  File \"/databricks/python/lib/python3.9/site-packages/stack_data/core.py\", line 698, in lines\n    pieces = self.included_pieces\n  File \"/databricks/python/lib/python3.9/site-packages/stack_data/utils.py\", line 145, in cached_property_wrapper\n    value = obj.__dict__[self.func.__name__] = self.func(obj)\n  File \"/databricks/python/lib/python3.9/site-packages/stack_data/core.py\", line 649, in included_pieces\n    pos = scope_pieces.index(self.executing_piece)\n  File \"/databricks/python/lib/python3.9/site-packages/stack_data/utils.py\", line 145, in cached_property_wrapper\n    value = obj.__dict__[self.func.__name__] = self.func(obj)\n  File \"/databricks/python/lib/python3.9/site-packages/stack_data/core.py\", line 628, in executing_piece\n    return only(\n  File \"/databricks/python/lib/python3.9/site-packages/executing/executing.py\", line 164, in only\n    raise NotOneValueFound('Expected one value, found 0')\nexecuting.executing.NotOneValueFound: Expected one value, found 0\n"
     ]
    },
    {
     "output_type": "display_data",
     "data": {
      "text/plain": [
       ""
      ]
     },
     "metadata": {
      "application/vnd.databricks.v1+output": {
       "arguments": {},
       "data": "",
       "errorSummary": "<span class='ansi-red-fg'>TypeError</span>: Invalid argument, not a string or column: DataFrame[product_id: bigint, product_name: string, sales_date: string, sales: bigint] of type <class 'pyspark.sql.dataframe.DataFrame'>. For column literals, use 'lit', 'array', 'struct' or 'create_map' function.",
       "errorTraceType": "ansi",
       "metadata": {},
       "type": "ipynbError"
      }
     },
     "output_type": "display_data"
    }
   ],
   "source": [
    "from pyspark.sql.window import Window\n",
    "from pyspark.sql.functions import*\n",
    "\n",
    "window = Window.partitionBy(\"product_id\")\n",
    "\n",
    "sales.withColumn(\"total_sale\",sum(sales).over(window)).show()"
   ]
  },
  {
   "cell_type": "code",
   "execution_count": 0,
   "metadata": {
    "application/vnd.databricks.v1+cell": {
     "cellMetadata": {
      "byteLimit": 2048000,
      "rowLimit": 10000
     },
     "inputWidgets": {},
     "nuid": "698d1c71-a20d-408f-9de1-79c9e1ae0521",
     "showTitle": false,
     "title": ""
    }
   },
   "outputs": [
    {
     "output_type": "stream",
     "name": "stdout",
     "output_type": "stream",
     "text": [
      "+----------+------------+----------+-------+--------------------+\n|product_id|product_name|sales_date|  sales|previous_month_sales|\n+----------+------------+----------+-------+--------------------+\n|         1|      iphone|01-01-2023|1500000|                null|\n|         1|      iphone|01-02-2023|1300000|             1500000|\n|         1|      iphone|01-03-2023|1600000|             1300000|\n|         1|      iphone|01-04-2023|1700000|             1600000|\n|         1|      iphone|01-05-2023|1200000|             1700000|\n|         1|      iphone|01-06-2023|1100000|             1200000|\n|         2|     samsung|01-01-2023|1100000|                null|\n|         2|     samsung|01-02-2023|1120000|             1100000|\n|         2|     samsung|01-03-2023|1080000|             1120000|\n|         2|     samsung|01-04-2023|1800000|             1080000|\n|         2|     samsung|01-05-2023| 980000|             1800000|\n|         2|     samsung|01-06-2023|1100000|              980000|\n|         3|     oneplus|01-01-2023|1100000|                null|\n|         3|     oneplus|01-02-2023|1120000|             1100000|\n|         3|     oneplus|01-03-2023|1160000|             1120000|\n|         3|     oneplus|01-04-2023|1170000|             1160000|\n|         3|     oneplus|01-05-2023|1175000|             1170000|\n|         3|     oneplus|01-06-2023|1200000|             1175000|\n+----------+------------+----------+-------+--------------------+\n\n"
     ]
    }
   ],
   "source": [
    "window = Window.partitionBy(\"product_id\").orderBy(\"sales_date\")\n",
    "\n",
    "df = sales.withColumn(\"previous_month_sales\",lag(col(\"sales\"),1).over(window))\n",
    "\n",
    "df.show()"
   ]
  },
  {
   "cell_type": "code",
   "execution_count": 0,
   "metadata": {
    "application/vnd.databricks.v1+cell": {
     "cellMetadata": {
      "byteLimit": 2048000,
      "rowLimit": 10000
     },
     "inputWidgets": {},
     "nuid": "3e959a73-7cd9-4751-8e04-5818f58da9d7",
     "showTitle": false,
     "title": ""
    }
   },
   "outputs": [
    {
     "output_type": "stream",
     "name": "stdout",
     "output_type": "stream",
     "text": [
      "+----------+------------+----------+-------+--------------------+------+\n|product_id|product_name|sales_date|  sales|previous_month_sales|profit|\n+----------+------------+----------+-------+--------------------+------+\n|         1|      iphone|01-01-2023|1500000|                null|  null|\n|         1|      iphone|01-02-2023|1300000|             1500000|-15.38|\n|         1|      iphone|01-03-2023|1600000|             1300000| 18.75|\n|         1|      iphone|01-04-2023|1700000|             1600000|  5.88|\n|         1|      iphone|01-05-2023|1200000|             1700000|-41.67|\n|         1|      iphone|01-06-2023|1100000|             1200000| -9.09|\n|         2|     samsung|01-01-2023|1100000|                null|  null|\n|         2|     samsung|01-02-2023|1120000|             1100000|  1.79|\n|         2|     samsung|01-03-2023|1080000|             1120000|  -3.7|\n|         2|     samsung|01-04-2023|1800000|             1080000|  40.0|\n|         2|     samsung|01-05-2023| 980000|             1800000|-83.67|\n|         2|     samsung|01-06-2023|1100000|              980000| 10.91|\n|         3|     oneplus|01-01-2023|1100000|                null|  null|\n|         3|     oneplus|01-02-2023|1120000|             1100000|  1.79|\n|         3|     oneplus|01-03-2023|1160000|             1120000|  3.45|\n|         3|     oneplus|01-04-2023|1170000|             1160000|  0.85|\n|         3|     oneplus|01-05-2023|1175000|             1170000|  0.43|\n|         3|     oneplus|01-06-2023|1200000|             1175000|  2.08|\n+----------+------------+----------+-------+--------------------+------+\n\n"
     ]
    }
   ],
   "source": [
    "df.withColumn(\"profit\",\n",
    "              round((col(\"sales\") - col(\"previous_month_sales\"))\n",
    "                    *100/col(\"sales\"),2))\\\n",
    "                .show()"
   ]
  },
  {
   "cell_type": "code",
   "execution_count": 0,
   "metadata": {
    "application/vnd.databricks.v1+cell": {
     "cellMetadata": {
      "byteLimit": 2048000,
      "rowLimit": 10000
     },
     "inputWidgets": {},
     "nuid": "f8e58b0a-ac8c-444d-98b1-ae9300d279b5",
     "showTitle": false,
     "title": ""
    }
   },
   "outputs": [],
   "source": [
    "sales.createOrReplaceTempView(\"sales\")"
   ]
  },
  {
   "cell_type": "code",
   "execution_count": 0,
   "metadata": {
    "application/vnd.databricks.v1+cell": {
     "cellMetadata": {
      "byteLimit": 2048000,
      "rowLimit": 10000
     },
     "inputWidgets": {},
     "nuid": "42e5481d-3eaa-48df-b591-ed670ae3a262",
     "showTitle": false,
     "title": ""
    }
   },
   "outputs": [
    {
     "output_type": "stream",
     "name": "stdout",
     "output_type": "stream",
     "text": [
      "+----------+------------+----------+-------+--------------+----------------+\n|product_id|product_name|sales_date|  sales|pre_month_sale|profit_loss_gain|\n+----------+------------+----------+-------+--------------+----------------+\n|         1|      iphone|01-01-2023|1500000|          null|            null|\n|         1|      iphone|01-02-2023|1300000|       1500000|          -15.38|\n|         1|      iphone|01-03-2023|1600000|       1300000|           18.75|\n|         1|      iphone|01-04-2023|1700000|       1600000|            5.88|\n|         1|      iphone|01-05-2023|1200000|       1700000|          -41.67|\n|         1|      iphone|01-06-2023|1100000|       1200000|           -9.09|\n|         2|     samsung|01-01-2023|1100000|          null|            null|\n|         2|     samsung|01-02-2023|1120000|       1100000|            1.79|\n|         2|     samsung|01-03-2023|1080000|       1120000|            -3.7|\n|         2|     samsung|01-04-2023|1800000|       1080000|            40.0|\n|         2|     samsung|01-05-2023| 980000|       1800000|          -83.67|\n|         2|     samsung|01-06-2023|1100000|        980000|           10.91|\n|         3|     oneplus|01-01-2023|1100000|          null|            null|\n|         3|     oneplus|01-02-2023|1120000|       1100000|            1.79|\n|         3|     oneplus|01-03-2023|1160000|       1120000|            3.45|\n|         3|     oneplus|01-04-2023|1170000|       1160000|            0.85|\n|         3|     oneplus|01-05-2023|1175000|       1170000|            0.43|\n|         3|     oneplus|01-06-2023|1200000|       1175000|            2.08|\n+----------+------------+----------+-------+--------------+----------------+\n\n"
     ]
    }
   ],
   "source": [
    "spark.sql(\"\"\"\n",
    "          \n",
    "          with cte as (select *,\n",
    "          lag(sales,1) over(partition by product_id order by sales_date) as pre_month_sale\n",
    "          from sales)\n",
    "\n",
    "          select *,round((( sales - pre_month_sale)*100)/sales,2) as profit_loss_gain\n",
    "          from cte;\n",
    "    \n",
    "          \"\"\").show()"
   ]
  },
  {
   "cell_type": "markdown",
   "metadata": {
    "application/vnd.databricks.v1+cell": {
     "cellMetadata": {},
     "inputWidgets": {},
     "nuid": "61a640d5-4edf-44d7-be1a-2ff1916d62c6",
     "showTitle": false,
     "title": ""
    }
   },
   "source": [
    "#Range and Row between"
   ]
  },
  {
   "cell_type": "markdown",
   "metadata": {
    "application/vnd.databricks.v1+cell": {
     "cellMetadata": {},
     "inputWidgets": {},
     "nuid": "cc3eac66-59d6-4533-9da0-f1636fd15594",
     "showTitle": false,
     "title": ""
    }
   },
   "source": [
    "Find the difference in sales of each product from their first month sales to the lastes sales"
   ]
  },
  {
   "cell_type": "code",
   "execution_count": 0,
   "metadata": {
    "application/vnd.databricks.v1+cell": {
     "cellMetadata": {
      "byteLimit": 2048000,
      "rowLimit": 10000
     },
     "inputWidgets": {},
     "nuid": "6ef1b61b-a90b-4191-b6b9-0fce666e9bf1",
     "showTitle": false,
     "title": ""
    }
   },
   "outputs": [
    {
     "output_type": "stream",
     "name": "stdout",
     "output_type": "stream",
     "text": [
      "+----------+------------+----------+-------+\n|product_id|product_name|sales_date|  sales|\n+----------+------------+----------+-------+\n|         2|     samsung|01-01-1995|  11000|\n|         1|      iphone|01-02-2023|1300000|\n|         2|     samsung|01-02-2023|1120000|\n|         3|     oneplus|01-02-2023|1120000|\n|         1|      iphone|01-03-2023|1600000|\n|         2|     samsung|01-03-2023|1080000|\n|         3|     oneplus|01-03-2023|1160000|\n|         1|      iphone|01-01-2006|  15000|\n|         1|      iphone|01-04-2023|1700000|\n|         2|     samsung|01-04-2023|1800000|\n|         3|     oneplus|01-04-2023|1170000|\n|         1|      iphone|01-05-2023|1200000|\n|         2|     samsung|01-05-2023| 980000|\n|         3|     oneplus|01-05-2023|1175000|\n|         1|      iphone|01-06-2023|1100000|\n|         3|     oneplus|01-01-2010|  23000|\n|         2|     samsung|01-06-2023|1100000|\n|         3|     oneplus|01-06-2023|1200000|\n+----------+------------+----------+-------+\n\n"
     ]
    }
   ],
   "source": [
    "product_data = [\n",
    "(2,\"samsung\",\"01-01-1995\",11000),\n",
    "(1,\"iphone\",\"01-02-2023\",1300000),\n",
    "(2,\"samsung\",\"01-02-2023\",1120000),\n",
    "(3,\"oneplus\",\"01-02-2023\",1120000),\n",
    "(1,\"iphone\",\"01-03-2023\",1600000),\n",
    "(2,\"samsung\",\"01-03-2023\",1080000),\n",
    "(3,\"oneplus\",\"01-03-2023\",1160000),\n",
    "(1,\"iphone\",\"01-01-2006\",15000),\n",
    "(1,\"iphone\",\"01-04-2023\",1700000),\n",
    "(2,\"samsung\",\"01-04-2023\",1800000),\n",
    "(3,\"oneplus\",\"01-04-2023\",1170000),\n",
    "(1,\"iphone\",\"01-05-2023\",1200000),\n",
    "(2,\"samsung\",\"01-05-2023\",980000),\n",
    "(3,\"oneplus\",\"01-05-2023\",1175000),\n",
    "(1,\"iphone\",\"01-06-2023\",1100000),\n",
    "(3,\"oneplus\",\"01-01-2010\",23000),\n",
    "(2,\"samsung\",\"01-06-2023\",1100000),\n",
    "(3,\"oneplus\",\"01-06-2023\",1200000)\n",
    "]\n",
    "\n",
    "product_schema=[\"product_id\",\"product_name\",\"sales_date\",\"sales\"]\n",
    "\n",
    "product= spark.createDataFrame(data=product_data,schema=product_schema)\n",
    "\n",
    "product.show()"
   ]
  },
  {
   "cell_type": "code",
   "execution_count": 0,
   "metadata": {
    "application/vnd.databricks.v1+cell": {
     "cellMetadata": {
      "byteLimit": 2048000,
      "rowLimit": 10000
     },
     "inputWidgets": {},
     "nuid": "f7a56a6f-8066-45f4-9044-f2d7aa910f0c",
     "showTitle": false,
     "title": ""
    }
   },
   "outputs": [
    {
     "output_type": "stream",
     "name": "stdout",
     "output_type": "stream",
     "text": [
      "+----------+------------+----------+-------+----------------+----------------+\n|product_id|product_name|sales_date|  sales|first_month_sale|last_month_sales|\n+----------+------------+----------+-------+----------------+----------------+\n|         1|      iphone|01-01-2006|  15000|           15000|           15000|\n|         1|      iphone|01-02-2023|1300000|           15000|         1300000|\n|         1|      iphone|01-03-2023|1600000|           15000|         1600000|\n|         1|      iphone|01-04-2023|1700000|           15000|         1700000|\n|         1|      iphone|01-05-2023|1200000|           15000|         1200000|\n|         1|      iphone|01-06-2023|1100000|           15000|         1100000|\n|         2|     samsung|01-01-1995|  11000|           11000|           11000|\n|         2|     samsung|01-02-2023|1120000|           11000|         1120000|\n|         2|     samsung|01-03-2023|1080000|           11000|         1080000|\n|         2|     samsung|01-04-2023|1800000|           11000|         1800000|\n|         2|     samsung|01-05-2023| 980000|           11000|          980000|\n|         2|     samsung|01-06-2023|1100000|           11000|         1100000|\n|         3|     oneplus|01-01-2010|  23000|           23000|           23000|\n|         3|     oneplus|01-02-2023|1120000|           23000|         1120000|\n|         3|     oneplus|01-03-2023|1160000|           23000|         1160000|\n|         3|     oneplus|01-04-2023|1170000|           23000|         1170000|\n|         3|     oneplus|01-05-2023|1175000|           23000|         1175000|\n|         3|     oneplus|01-06-2023|1200000|           23000|         1200000|\n+----------+------------+----------+-------+----------------+----------------+\n\n"
     ]
    }
   ],
   "source": [
    "window = Window.partitionBy(\"product_id\").orderBy(\"sales_date\")\n",
    "\n",
    "product.withColumn(\"first_month_sale\",first(\"sales\").over(window))\\\n",
    "     .withColumn(\"last_month_sales\",last(\"sales\").over(window)).show()"
   ]
  },
  {
   "cell_type": "markdown",
   "metadata": {
    "application/vnd.databricks.v1+cell": {
     "cellMetadata": {},
     "inputWidgets": {},
     "nuid": "3142592d-3d0e-4405-9d8e-7180b71b7052",
     "showTitle": false,
     "title": ""
    }
   },
   "source": [
    "Here we can see the last value is not cming as per requiremnet since default is unbounded precending and current row"
   ]
  },
  {
   "cell_type": "code",
   "execution_count": 0,
   "metadata": {
    "application/vnd.databricks.v1+cell": {
     "cellMetadata": {
      "byteLimit": 2048000,
      "rowLimit": 10000
     },
     "inputWidgets": {},
     "nuid": "fa2e0d73-9e7f-44ca-98d5-574bf11a4e18",
     "showTitle": false,
     "title": ""
    }
   },
   "outputs": [
    {
     "output_type": "stream",
     "name": "stdout",
     "output_type": "stream",
     "text": [
      "+----------+------------+----------+-------+----------------+----------------+\n|product_id|product_name|sales_date|  sales|first_month_sale|last_month_sales|\n+----------+------------+----------+-------+----------------+----------------+\n|         1|      iphone|01-01-2006|  15000|           15000|         1100000|\n|         1|      iphone|01-02-2023|1300000|           15000|         1100000|\n|         1|      iphone|01-03-2023|1600000|           15000|         1100000|\n|         1|      iphone|01-04-2023|1700000|           15000|         1100000|\n|         1|      iphone|01-05-2023|1200000|           15000|         1100000|\n|         1|      iphone|01-06-2023|1100000|           15000|         1100000|\n|         2|     samsung|01-01-1995|  11000|           11000|         1100000|\n|         2|     samsung|01-02-2023|1120000|           11000|         1100000|\n|         2|     samsung|01-03-2023|1080000|           11000|         1100000|\n|         2|     samsung|01-04-2023|1800000|           11000|         1100000|\n|         2|     samsung|01-05-2023| 980000|           11000|         1100000|\n|         2|     samsung|01-06-2023|1100000|           11000|         1100000|\n|         3|     oneplus|01-01-2010|  23000|           23000|         1200000|\n|         3|     oneplus|01-02-2023|1120000|           23000|         1200000|\n|         3|     oneplus|01-03-2023|1160000|           23000|         1200000|\n|         3|     oneplus|01-04-2023|1170000|           23000|         1200000|\n|         3|     oneplus|01-05-2023|1175000|           23000|         1200000|\n|         3|     oneplus|01-06-2023|1200000|           23000|         1200000|\n+----------+------------+----------+-------+----------------+----------------+\n\n"
     ]
    }
   ],
   "source": [
    "#We can also solve this by groupby and then find min and max\n",
    "\n",
    "window = Window.partitionBy(\"product_id\").orderBy(\"sales_date\")\\\n",
    "               .rowsBetween(Window.unboundedPreceding,Window.unboundedFollowing)\n",
    "\n",
    "product.withColumn(\"first_month_sale\",first(\"sales\").over(window))\\\n",
    "     .withColumn(\"last_month_sales\",last(\"sales\").over(window)).show()"
   ]
  },
  {
   "cell_type": "markdown",
   "metadata": {
    "application/vnd.databricks.v1+cell": {
     "cellMetadata": {},
     "inputWidgets": {},
     "nuid": "512bd734-1125-438b-b45f-6c5632d73736",
     "showTitle": false,
     "title": ""
    }
   },
   "source": [
    "Find all the employees who have not completed 8 hours in office"
   ]
  },
  {
   "cell_type": "code",
   "execution_count": 0,
   "metadata": {
    "application/vnd.databricks.v1+cell": {
     "cellMetadata": {
      "byteLimit": 2048000,
      "rowLimit": 10000
     },
     "inputWidgets": {},
     "nuid": "7e14a1ef-0003-48dc-adc5-34fd8aee3472",
     "showTitle": false,
     "title": ""
    }
   },
   "outputs": [
    {
     "output_type": "stream",
     "name": "stdout",
     "output_type": "stream",
     "text": [
      "+---+------+----------+-----+\n| id|  name|      date| time|\n+---+------+----------+-----+\n|  1|manish|11-07-2023|10:20|\n|  1|manish|11-07-2023|11:20|\n|  2|rajesh|11-07-2023|11:20|\n|  1|manish|11-07-2023|11:50|\n|  2|rajesh|11-07-2023|13:20|\n|  1|manish|11-07-2023|19:20|\n|  2|rajesh|11-07-2023|17:20|\n|  1|manish|12-07-2023|10:32|\n|  1|manish|12-07-2023|12:20|\n|  3|vikash|12-07-2023|09:12|\n|  1|manish|12-07-2023|16:23|\n|  3|vikash|12-07-2023|18:08|\n+---+------+----------+-----+\n\n"
     ]
    }
   ],
   "source": [
    "emp_data = [(1,\"manish\",\"11-07-2023\",\"10:20\"),\n",
    "        (1,\"manish\",\"11-07-2023\",\"11:20\"),\n",
    "        (2,\"rajesh\",\"11-07-2023\",\"11:20\"),\n",
    "        (1,\"manish\",\"11-07-2023\",\"11:50\"),\n",
    "        (2,\"rajesh\",\"11-07-2023\",\"13:20\"),\n",
    "        (1,\"manish\",\"11-07-2023\",\"19:20\"),\n",
    "        (2,\"rajesh\",\"11-07-2023\",\"17:20\"),\n",
    "        (1,\"manish\",\"12-07-2023\",\"10:32\"),\n",
    "        (1,\"manish\",\"12-07-2023\",\"12:20\"),\n",
    "        (3,\"vikash\",\"12-07-2023\",\"09:12\"),\n",
    "        (1,\"manish\",\"12-07-2023\",\"16:23\"),\n",
    "        (3,\"vikash\",\"12-07-2023\",\"18:08\")]\n",
    "\n",
    "emp_schema = [\"id\", \"name\", \"date\", \"time\"]\n",
    "emp_df = spark.createDataFrame(data=emp_data, schema=emp_schema)\n",
    "\n",
    "emp_df.show()\n"
   ]
  },
  {
   "cell_type": "code",
   "execution_count": 0,
   "metadata": {
    "application/vnd.databricks.v1+cell": {
     "cellMetadata": {
      "byteLimit": 2048000,
      "rowLimit": 10000
     },
     "inputWidgets": {},
     "nuid": "4c27802a-a169-4e4c-9eda-989ab29abaed",
     "showTitle": false,
     "title": ""
    }
   },
   "outputs": [
    {
     "output_type": "stream",
     "name": "stdout",
     "output_type": "stream",
     "text": [
      "+---+------+----------+-----+-----+------+----------+-----------+--------------+\n| id|  name|      date| time|login|logout|login_time|logout_time|time_in_office|\n+---+------+----------+-----+-----+------+----------+-----------+--------------+\n|  1|manish|11-07-2023|10:20|10:20| 19:20|      null|       null|          null|\n|  1|manish|11-07-2023|11:20|10:20| 19:20|      null|       null|          null|\n|  1|manish|11-07-2023|11:50|10:20| 19:20|      null|       null|          null|\n|  1|manish|11-07-2023|19:20|10:20| 19:20|      null|       null|          null|\n|  1|manish|12-07-2023|10:32|10:32| 16:23|      null|       null|          null|\n|  1|manish|12-07-2023|12:20|10:32| 16:23|      null|       null|          null|\n|  1|manish|12-07-2023|16:23|10:32| 16:23|      null|       null|          null|\n|  2|rajesh|11-07-2023|11:20|11:20| 17:20|      null|       null|          null|\n|  2|rajesh|11-07-2023|13:20|11:20| 17:20|      null|       null|          null|\n|  2|rajesh|11-07-2023|17:20|11:20| 17:20|      null|       null|          null|\n|  3|vikash|12-07-2023|09:12|09:12| 18:08|      null|       null|          null|\n|  3|vikash|12-07-2023|18:08|09:12| 18:08|      null|       null|          null|\n+---+------+----------+-----+-----+------+----------+-----------+--------------+\n\n"
     ]
    }
   ],
   "source": [
    "window = Window.partitionBy(\"id\",\"date\").orderBy(\"date\")\\\n",
    "               .rowsBetween(Window.unboundedPreceding,Window.unboundedFollowing)\n",
    "\n",
    "emp_df.withColumn(\"login\",first(\"time\").over(window))\\\n",
    "     .withColumn(\"logout\",last(\"time\").over(window))\\\n",
    "     .withColumn(\"login_time\",to_timestamp(\"login\",\"yyyy-MM-dd HH:mm:ss\"))\\\n",
    "     .withColumn(\"logout_time\",to_timestamp(\"logout\",\"yyyy-MM-dd HH:mm:ss\"))\\\n",
    "     .withColumn(\"time_in_office\", col(\"logout_time\")-col(\"login_time\")).show()"
   ]
  },
  {
   "cell_type": "code",
   "execution_count": 0,
   "metadata": {
    "application/vnd.databricks.v1+cell": {
     "cellMetadata": {
      "byteLimit": 2048000,
      "rowLimit": 10000
     },
     "inputWidgets": {},
     "nuid": "ce61f55b-1bd6-4f59-b258-617ad8172044",
     "showTitle": false,
     "title": ""
    }
   },
   "outputs": [
    {
     "output_type": "stream",
     "name": "stdout",
     "output_type": "stream",
     "text": [
      "root\n |-- id: long (nullable = true)\n |-- name: string (nullable = true)\n |-- date: string (nullable = true)\n |-- time: string (nullable = true)\n\n"
     ]
    }
   ],
   "source": [
    "emp_df.printSchema()"
   ]
  },
  {
   "cell_type": "code",
   "execution_count": 0,
   "metadata": {
    "application/vnd.databricks.v1+cell": {
     "cellMetadata": {
      "byteLimit": 2048000,
      "rowLimit": 10000
     },
     "inputWidgets": {},
     "nuid": "2b26f1da-a2de-451e-b091-b4a02f5788df",
     "showTitle": false,
     "title": ""
    }
   },
   "outputs": [],
   "source": [
    "emp_df = emp_df.withColumn(\"timestamp\", to_timestamp(concat(col(\"date\"), lit(\" \"), col(\"time\")), \"dd-MM-yyyy HH:mm\"))"
   ]
  },
  {
   "cell_type": "code",
   "execution_count": 0,
   "metadata": {
    "application/vnd.databricks.v1+cell": {
     "cellMetadata": {
      "byteLimit": 2048000,
      "rowLimit": 10000
     },
     "inputWidgets": {},
     "nuid": "4a738fe8-1166-4c9c-807b-0aaaaad2a69d",
     "showTitle": false,
     "title": ""
    }
   },
   "outputs": [
    {
     "output_type": "stream",
     "name": "stdout",
     "output_type": "stream",
     "text": [
      "root\n |-- id: long (nullable = true)\n |-- name: string (nullable = true)\n |-- date: string (nullable = true)\n |-- time: string (nullable = true)\n |-- timestamp: timestamp (nullable = true)\n\n"
     ]
    }
   ],
   "source": [
    "emp_df.printSchema()"
   ]
  },
  {
   "cell_type": "code",
   "execution_count": 0,
   "metadata": {
    "application/vnd.databricks.v1+cell": {
     "cellMetadata": {
      "byteLimit": 2048000,
      "rowLimit": 10000
     },
     "inputWidgets": {},
     "nuid": "ae2bbbd2-1a9e-46a3-8d91-72eac59d5ec2",
     "showTitle": false,
     "title": ""
    }
   },
   "outputs": [
    {
     "output_type": "stream",
     "name": "stdout",
     "output_type": "stream",
     "text": [
      "+---+------+----------+-----+-------------------+\n| id|  name|      date| time|          timestamp|\n+---+------+----------+-----+-------------------+\n|  1|manish|11-07-2023|10:20|2023-07-11 10:20:00|\n|  1|manish|11-07-2023|11:20|2023-07-11 11:20:00|\n|  2|rajesh|11-07-2023|11:20|2023-07-11 11:20:00|\n|  1|manish|11-07-2023|11:50|2023-07-11 11:50:00|\n|  2|rajesh|11-07-2023|13:20|2023-07-11 13:20:00|\n|  1|manish|11-07-2023|19:20|2023-07-11 19:20:00|\n|  2|rajesh|11-07-2023|17:20|2023-07-11 17:20:00|\n|  1|manish|12-07-2023|10:32|2023-07-12 10:32:00|\n|  1|manish|12-07-2023|12:20|2023-07-12 12:20:00|\n|  3|vikash|12-07-2023|09:12|2023-07-12 09:12:00|\n|  1|manish|12-07-2023|16:23|2023-07-12 16:23:00|\n|  3|vikash|12-07-2023|18:08|2023-07-12 18:08:00|\n+---+------+----------+-----+-------------------+\n\n"
     ]
    }
   ],
   "source": [
    "emp_df.show()"
   ]
  },
  {
   "cell_type": "code",
   "execution_count": 0,
   "metadata": {
    "application/vnd.databricks.v1+cell": {
     "cellMetadata": {
      "byteLimit": 2048000,
      "rowLimit": 10000
     },
     "inputWidgets": {},
     "nuid": "c718efe7-7546-4ea4-959f-5d4f0690baf3",
     "showTitle": false,
     "title": ""
    }
   },
   "outputs": [
    {
     "output_type": "stream",
     "name": "stdout",
     "output_type": "stream",
     "text": [
      "+---+------+----------+-----+-------------------+-------------------+-------------------+--------------+\n| id|  name|      date| time|          timestamp|              login|             logout|time_in_office|\n+---+------+----------+-----+-------------------+-------------------+-------------------+--------------+\n|  1|manish|11-07-2023|10:20|2023-07-11 10:20:00|2023-07-11 10:20:00|2023-07-11 19:20:00|         32400|\n|  1|manish|11-07-2023|11:20|2023-07-11 11:20:00|2023-07-11 10:20:00|2023-07-11 19:20:00|         32400|\n|  1|manish|11-07-2023|11:50|2023-07-11 11:50:00|2023-07-11 10:20:00|2023-07-11 19:20:00|         32400|\n|  1|manish|11-07-2023|19:20|2023-07-11 19:20:00|2023-07-11 10:20:00|2023-07-11 19:20:00|         32400|\n|  1|manish|12-07-2023|10:32|2023-07-12 10:32:00|2023-07-12 10:32:00|2023-07-12 16:23:00|         21060|\n|  1|manish|12-07-2023|12:20|2023-07-12 12:20:00|2023-07-12 10:32:00|2023-07-12 16:23:00|         21060|\n|  1|manish|12-07-2023|16:23|2023-07-12 16:23:00|2023-07-12 10:32:00|2023-07-12 16:23:00|         21060|\n|  2|rajesh|11-07-2023|11:20|2023-07-11 11:20:00|2023-07-11 11:20:00|2023-07-11 17:20:00|         21600|\n|  2|rajesh|11-07-2023|13:20|2023-07-11 13:20:00|2023-07-11 11:20:00|2023-07-11 17:20:00|         21600|\n|  2|rajesh|11-07-2023|17:20|2023-07-11 17:20:00|2023-07-11 11:20:00|2023-07-11 17:20:00|         21600|\n|  3|vikash|12-07-2023|09:12|2023-07-12 09:12:00|2023-07-12 09:12:00|2023-07-12 18:08:00|         32160|\n|  3|vikash|12-07-2023|18:08|2023-07-12 18:08:00|2023-07-12 09:12:00|2023-07-12 18:08:00|         32160|\n+---+------+----------+-----+-------------------+-------------------+-------------------+--------------+\n\n"
     ]
    }
   ],
   "source": [
    "window = Window.partitionBy(\"id\",\"date\").orderBy(\"date\")\\\n",
    "               .rowsBetween(Window.unboundedPreceding,Window.unboundedFollowing)\n",
    "\n",
    "emp_timestamp = emp_df.withColumn(\"login\",first(\"timestamp\").over(window))\\\n",
    "     .withColumn(\"logout\",last(\"timestamp\").over(window))\\\n",
    "     .withColumn(\"time_in_office\", unix_timestamp(col(\"logout\")) - unix_timestamp(col(\"login\")))\n",
    "\n",
    "emp_timestamp.show()"
   ]
  },
  {
   "cell_type": "code",
   "execution_count": 0,
   "metadata": {
    "application/vnd.databricks.v1+cell": {
     "cellMetadata": {
      "byteLimit": 2048000,
      "rowLimit": 10000
     },
     "inputWidgets": {},
     "nuid": "6f7c316d-9a58-40cb-9187-b863804266f5",
     "showTitle": false,
     "title": ""
    }
   },
   "outputs": [
    {
     "output_type": "stream",
     "name": "stdout",
     "output_type": "stream",
     "text": [
      "+------+\n|  name|\n+------+\n|vikash|\n|manish|\n+------+\n\n"
     ]
    }
   ],
   "source": [
    "emp_timestamp.filter(col(\"time_in_office\") > 28800).select(\"name\").distinct().show()"
   ]
  },
  {
   "cell_type": "code",
   "execution_count": 0,
   "metadata": {
    "application/vnd.databricks.v1+cell": {
     "cellMetadata": {
      "byteLimit": 2048000,
      "rowLimit": 10000
     },
     "inputWidgets": {},
     "nuid": "b344d6a6-8268-4594-8548-afe49d024837",
     "showTitle": false,
     "title": ""
    }
   },
   "outputs": [
    {
     "output_type": "stream",
     "name": "stdout",
     "output_type": "stream",
     "text": [
      "+----------+------------+----------+-------+\n|product_id|product_name|sales_date|  sales|\n+----------+------------+----------+-------+\n|         2|     samsung|01-01-1995|  11000|\n|         1|      iphone|01-02-2023|1300000|\n|         2|     samsung|01-02-2023|1120000|\n|         3|     oneplus|01-02-2023|1120000|\n|         1|      iphone|01-03-2023|1600000|\n|         2|     samsung|01-03-2023|1080000|\n|         3|     oneplus|01-03-2023|1160000|\n|         1|      iphone|01-01-2006|  15000|\n|         1|      iphone|01-04-2023|1700000|\n|         2|     samsung|01-04-2023|1800000|\n|         3|     oneplus|01-04-2023|1170000|\n|         1|      iphone|01-05-2023|1200000|\n|         2|     samsung|01-05-2023| 980000|\n|         3|     oneplus|01-05-2023|1175000|\n|         1|      iphone|01-06-2023|1100000|\n|         3|     oneplus|01-01-2010|  23000|\n|         2|     samsung|01-06-2023|1100000|\n|         3|     oneplus|01-06-2023|1200000|\n+----------+------------+----------+-------+\n\n"
     ]
    }
   ],
   "source": [
    "product.show()\n",
    "\n",
    "        "
   ]
  },
  {
   "cell_type": "markdown",
   "metadata": {
    "application/vnd.databricks.v1+cell": {
     "cellMetadata": {},
     "inputWidgets": {},
     "nuid": "91bc774a-ba2d-451d-ad00-c216b994ebf7",
     "showTitle": false,
     "title": ""
    }
   },
   "source": [
    "#find the sales of each product based on 3 months"
   ]
  },
  {
   "cell_type": "code",
   "execution_count": 0,
   "metadata": {
    "application/vnd.databricks.v1+cell": {
     "cellMetadata": {
      "byteLimit": 2048000,
      "rowLimit": 10000
     },
     "inputWidgets": {},
     "nuid": "ddae54ee-0a02-47c6-a99a-89b14d2f1045",
     "showTitle": false,
     "title": ""
    }
   },
   "outputs": [
    {
     "output_type": "stream",
     "name": "stdout",
     "output_type": "stream",
     "text": [
      "+----------+------------+----------+-------+------------------+---+\n|product_id|product_name|sales_date|  sales|  last_3month_sale| rn|\n+----------+------------+----------+-------+------------------+---+\n|         1|      iphone|01-03-2023|1600000| 971666.6666666666|  3|\n|         1|      iphone|01-04-2023|1700000|1533333.3333333333|  4|\n|         1|      iphone|01-05-2023|1200000|         1500000.0|  5|\n|         1|      iphone|01-06-2023|1100000|1333333.3333333333|  6|\n|         2|     samsung|01-03-2023|1080000|          737000.0|  3|\n|         2|     samsung|01-04-2023|1800000|1333333.3333333333|  4|\n|         2|     samsung|01-05-2023| 980000|1286666.6666666667|  5|\n|         2|     samsung|01-06-2023|1100000|1293333.3333333333|  6|\n|         3|     oneplus|01-03-2023|1160000| 767666.6666666666|  3|\n|         3|     oneplus|01-04-2023|1170000|         1150000.0|  4|\n|         3|     oneplus|01-05-2023|1175000|1168333.3333333333|  5|\n|         3|     oneplus|01-06-2023|1200000|1181666.6666666667|  6|\n+----------+------------+----------+-------+------------------+---+\n\n"
     ]
    }
   ],
   "source": [
    "window = Window.partitionBy(\"product_id\").orderBy(\"sales_date\").rowsBetween(-2,0)\n",
    "window1 = Window.partitionBy(\"product_id\").orderBy(\"sales_date\")\n",
    "\n",
    "p_df = product.withColumn(\"last_3month_sale\",avg(col(\"sales\")).over(window))\\\n",
    "                .withColumn(\"rn\",row_number().over(window1))\\\n",
    "                .filter(col(\"rn\") > 2).show()\n",
    "                "
   ]
  },
  {
   "cell_type": "code",
   "execution_count": 0,
   "metadata": {
    "application/vnd.databricks.v1+cell": {
     "cellMetadata": {},
     "inputWidgets": {},
     "nuid": "413c0fcb-9b31-4642-908b-9315a6699949",
     "showTitle": false,
     "title": ""
    }
   },
   "outputs": [],
   "source": []
  }
 ],
 "metadata": {
  "application/vnd.databricks.v1+notebook": {
   "dashboards": [],
   "environmentMetadata": null,
   "language": "python",
   "notebookMetadata": {
    "pythonIndentUnit": 4
   },
   "notebookName": "Window function in Pyspark",
   "widgets": {}
  }
 },
 "nbformat": 4,
 "nbformat_minor": 0
}
